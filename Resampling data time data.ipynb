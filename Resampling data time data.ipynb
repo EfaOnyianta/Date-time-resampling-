{
 "cells": [
  {
   "cell_type": "code",
   "execution_count": 1,
   "id": "899d5221",
   "metadata": {},
   "outputs": [],
   "source": [
    "import pandas as pd\n",
    "import numpy as np\n",
    "import matplotlib.pyplot as plt\n",
    "import matplotlib.dates as mdates\n",
    "import matplotlib.ticker as mticks\n",
    "import seaborn as sns\n",
    "\n",
    "\n",
    "import missingno as miss\n",
    "import datetime as dt\n",
    "import statsmodels.tsa.api as tsa\n",
    "from matplotlib import dates as mdates"
   ]
  },
  {
   "cell_type": "code",
   "execution_count": 2,
   "id": "1afa1c6d",
   "metadata": {},
   "outputs": [
    {
     "data": {
      "text/html": [
       "<div>\n",
       "<style scoped>\n",
       "    .dataframe tbody tr th:only-of-type {\n",
       "        vertical-align: middle;\n",
       "    }\n",
       "\n",
       "    .dataframe tbody tr th {\n",
       "        vertical-align: top;\n",
       "    }\n",
       "\n",
       "    .dataframe thead th {\n",
       "        text-align: right;\n",
       "    }\n",
       "</style>\n",
       "<table border=\"1\" class=\"dataframe\">\n",
       "  <thead>\n",
       "    <tr style=\"text-align: right;\">\n",
       "      <th></th>\n",
       "      <th>date</th>\n",
       "      <th>cloud_cover</th>\n",
       "      <th>sunshine</th>\n",
       "      <th>global_radiation</th>\n",
       "      <th>max_temp</th>\n",
       "      <th>mean_temp</th>\n",
       "      <th>min_temp</th>\n",
       "      <th>precipitation</th>\n",
       "      <th>pressure</th>\n",
       "      <th>snow_depth</th>\n",
       "    </tr>\n",
       "  </thead>\n",
       "  <tbody>\n",
       "    <tr>\n",
       "      <th>0</th>\n",
       "      <td>19790101</td>\n",
       "      <td>2.0</td>\n",
       "      <td>7.0</td>\n",
       "      <td>52.0</td>\n",
       "      <td>2.3</td>\n",
       "      <td>-4.1</td>\n",
       "      <td>-7.5</td>\n",
       "      <td>0.4</td>\n",
       "      <td>101900.0</td>\n",
       "      <td>9.0</td>\n",
       "    </tr>\n",
       "    <tr>\n",
       "      <th>1</th>\n",
       "      <td>19790102</td>\n",
       "      <td>6.0</td>\n",
       "      <td>1.7</td>\n",
       "      <td>27.0</td>\n",
       "      <td>1.6</td>\n",
       "      <td>-2.6</td>\n",
       "      <td>-7.5</td>\n",
       "      <td>0.0</td>\n",
       "      <td>102530.0</td>\n",
       "      <td>8.0</td>\n",
       "    </tr>\n",
       "    <tr>\n",
       "      <th>2</th>\n",
       "      <td>19790103</td>\n",
       "      <td>5.0</td>\n",
       "      <td>0.0</td>\n",
       "      <td>13.0</td>\n",
       "      <td>1.3</td>\n",
       "      <td>-2.8</td>\n",
       "      <td>-7.2</td>\n",
       "      <td>0.0</td>\n",
       "      <td>102050.0</td>\n",
       "      <td>4.0</td>\n",
       "    </tr>\n",
       "    <tr>\n",
       "      <th>3</th>\n",
       "      <td>19790104</td>\n",
       "      <td>8.0</td>\n",
       "      <td>0.0</td>\n",
       "      <td>13.0</td>\n",
       "      <td>-0.3</td>\n",
       "      <td>-2.6</td>\n",
       "      <td>-6.5</td>\n",
       "      <td>0.0</td>\n",
       "      <td>100840.0</td>\n",
       "      <td>2.0</td>\n",
       "    </tr>\n",
       "    <tr>\n",
       "      <th>4</th>\n",
       "      <td>19790105</td>\n",
       "      <td>6.0</td>\n",
       "      <td>2.0</td>\n",
       "      <td>29.0</td>\n",
       "      <td>5.6</td>\n",
       "      <td>-0.8</td>\n",
       "      <td>-1.4</td>\n",
       "      <td>0.0</td>\n",
       "      <td>102250.0</td>\n",
       "      <td>1.0</td>\n",
       "    </tr>\n",
       "    <tr>\n",
       "      <th>...</th>\n",
       "      <td>...</td>\n",
       "      <td>...</td>\n",
       "      <td>...</td>\n",
       "      <td>...</td>\n",
       "      <td>...</td>\n",
       "      <td>...</td>\n",
       "      <td>...</td>\n",
       "      <td>...</td>\n",
       "      <td>...</td>\n",
       "      <td>...</td>\n",
       "    </tr>\n",
       "    <tr>\n",
       "      <th>15336</th>\n",
       "      <td>20201227</td>\n",
       "      <td>1.0</td>\n",
       "      <td>0.9</td>\n",
       "      <td>32.0</td>\n",
       "      <td>7.5</td>\n",
       "      <td>7.5</td>\n",
       "      <td>7.6</td>\n",
       "      <td>2.0</td>\n",
       "      <td>98000.0</td>\n",
       "      <td>NaN</td>\n",
       "    </tr>\n",
       "    <tr>\n",
       "      <th>15337</th>\n",
       "      <td>20201228</td>\n",
       "      <td>7.0</td>\n",
       "      <td>3.7</td>\n",
       "      <td>38.0</td>\n",
       "      <td>3.6</td>\n",
       "      <td>1.1</td>\n",
       "      <td>-1.3</td>\n",
       "      <td>0.2</td>\n",
       "      <td>97370.0</td>\n",
       "      <td>NaN</td>\n",
       "    </tr>\n",
       "    <tr>\n",
       "      <th>15338</th>\n",
       "      <td>20201229</td>\n",
       "      <td>7.0</td>\n",
       "      <td>0.0</td>\n",
       "      <td>21.0</td>\n",
       "      <td>4.1</td>\n",
       "      <td>2.6</td>\n",
       "      <td>1.1</td>\n",
       "      <td>0.0</td>\n",
       "      <td>98830.0</td>\n",
       "      <td>NaN</td>\n",
       "    </tr>\n",
       "    <tr>\n",
       "      <th>15339</th>\n",
       "      <td>20201230</td>\n",
       "      <td>6.0</td>\n",
       "      <td>0.4</td>\n",
       "      <td>22.0</td>\n",
       "      <td>5.6</td>\n",
       "      <td>2.7</td>\n",
       "      <td>-0.1</td>\n",
       "      <td>0.0</td>\n",
       "      <td>100200.0</td>\n",
       "      <td>NaN</td>\n",
       "    </tr>\n",
       "    <tr>\n",
       "      <th>15340</th>\n",
       "      <td>20201231</td>\n",
       "      <td>7.0</td>\n",
       "      <td>1.3</td>\n",
       "      <td>34.0</td>\n",
       "      <td>1.5</td>\n",
       "      <td>-0.8</td>\n",
       "      <td>-3.1</td>\n",
       "      <td>0.0</td>\n",
       "      <td>100500.0</td>\n",
       "      <td>NaN</td>\n",
       "    </tr>\n",
       "  </tbody>\n",
       "</table>\n",
       "<p>15341 rows × 10 columns</p>\n",
       "</div>"
      ],
      "text/plain": [
       "           date  cloud_cover  sunshine  global_radiation  max_temp  mean_temp  \\\n",
       "0      19790101          2.0       7.0              52.0       2.3       -4.1   \n",
       "1      19790102          6.0       1.7              27.0       1.6       -2.6   \n",
       "2      19790103          5.0       0.0              13.0       1.3       -2.8   \n",
       "3      19790104          8.0       0.0              13.0      -0.3       -2.6   \n",
       "4      19790105          6.0       2.0              29.0       5.6       -0.8   \n",
       "...         ...          ...       ...               ...       ...        ...   \n",
       "15336  20201227          1.0       0.9              32.0       7.5        7.5   \n",
       "15337  20201228          7.0       3.7              38.0       3.6        1.1   \n",
       "15338  20201229          7.0       0.0              21.0       4.1        2.6   \n",
       "15339  20201230          6.0       0.4              22.0       5.6        2.7   \n",
       "15340  20201231          7.0       1.3              34.0       1.5       -0.8   \n",
       "\n",
       "       min_temp  precipitation  pressure  snow_depth  \n",
       "0          -7.5            0.4  101900.0         9.0  \n",
       "1          -7.5            0.0  102530.0         8.0  \n",
       "2          -7.2            0.0  102050.0         4.0  \n",
       "3          -6.5            0.0  100840.0         2.0  \n",
       "4          -1.4            0.0  102250.0         1.0  \n",
       "...         ...            ...       ...         ...  \n",
       "15336       7.6            2.0   98000.0         NaN  \n",
       "15337      -1.3            0.2   97370.0         NaN  \n",
       "15338       1.1            0.0   98830.0         NaN  \n",
       "15339      -0.1            0.0  100200.0         NaN  \n",
       "15340      -3.1            0.0  100500.0         NaN  \n",
       "\n",
       "[15341 rows x 10 columns]"
      ]
     },
     "execution_count": 2,
     "metadata": {},
     "output_type": "execute_result"
    }
   ],
   "source": [
    "path = \"C:/Users/dell/Downloads/london_weather_MODIFIED - london_weather_MODIFIED.csv\"\n",
    "dt_data  = pd.read_csv(path, low_memory=False)\n",
    "dt_data"
   ]
  },
  {
   "cell_type": "code",
   "execution_count": 3,
   "id": "3c2eada3",
   "metadata": {},
   "outputs": [
    {
     "name": "stdout",
     "output_type": "stream",
     "text": [
      "<class 'pandas.core.frame.DataFrame'>\n",
      "RangeIndex: 15341 entries, 0 to 15340\n",
      "Data columns (total 10 columns):\n",
      " #   Column            Non-Null Count  Dtype  \n",
      "---  ------            --------------  -----  \n",
      " 0   date              15341 non-null  int64  \n",
      " 1   cloud_cover       14938 non-null  float64\n",
      " 2   sunshine          14957 non-null  float64\n",
      " 3   global_radiation  14939 non-null  float64\n",
      " 4   max_temp          14951 non-null  float64\n",
      " 5   mean_temp         14922 non-null  float64\n",
      " 6   min_temp          14955 non-null  float64\n",
      " 7   precipitation     14951 non-null  float64\n",
      " 8   pressure          14953 non-null  float64\n",
      " 9   snow_depth        13589 non-null  float64\n",
      "dtypes: float64(9), int64(1)\n",
      "memory usage: 1.2 MB\n"
     ]
    }
   ],
   "source": [
    "dt_data.info()"
   ]
  },
  {
   "cell_type": "code",
   "execution_count": 4,
   "id": "fb091e1d",
   "metadata": {},
   "outputs": [],
   "source": [
    "#convert data column to date time \n",
    "dt_data['date'] = pd.to_datetime(dt_data['date'], format= '%Y%m%d')"
   ]
  },
  {
   "cell_type": "code",
   "execution_count": 5,
   "id": "10dda30f",
   "metadata": {},
   "outputs": [
    {
     "name": "stdout",
     "output_type": "stream",
     "text": [
      "<class 'pandas.core.frame.DataFrame'>\n",
      "RangeIndex: 15341 entries, 0 to 15340\n",
      "Data columns (total 10 columns):\n",
      " #   Column            Non-Null Count  Dtype         \n",
      "---  ------            --------------  -----         \n",
      " 0   date              15341 non-null  datetime64[ns]\n",
      " 1   cloud_cover       14938 non-null  float64       \n",
      " 2   sunshine          14957 non-null  float64       \n",
      " 3   global_radiation  14939 non-null  float64       \n",
      " 4   max_temp          14951 non-null  float64       \n",
      " 5   mean_temp         14922 non-null  float64       \n",
      " 6   min_temp          14955 non-null  float64       \n",
      " 7   precipitation     14951 non-null  float64       \n",
      " 8   pressure          14953 non-null  float64       \n",
      " 9   snow_depth        13589 non-null  float64       \n",
      "dtypes: datetime64[ns](1), float64(9)\n",
      "memory usage: 1.2 MB\n"
     ]
    }
   ],
   "source": [
    "dt_data.info()"
   ]
  },
  {
   "cell_type": "code",
   "execution_count": 6,
   "id": "34d0106e",
   "metadata": {},
   "outputs": [
    {
     "data": {
      "text/html": [
       "<div>\n",
       "<style scoped>\n",
       "    .dataframe tbody tr th:only-of-type {\n",
       "        vertical-align: middle;\n",
       "    }\n",
       "\n",
       "    .dataframe tbody tr th {\n",
       "        vertical-align: top;\n",
       "    }\n",
       "\n",
       "    .dataframe thead th {\n",
       "        text-align: right;\n",
       "    }\n",
       "</style>\n",
       "<table border=\"1\" class=\"dataframe\">\n",
       "  <thead>\n",
       "    <tr style=\"text-align: right;\">\n",
       "      <th></th>\n",
       "      <th>date</th>\n",
       "      <th>cloud_cover</th>\n",
       "      <th>sunshine</th>\n",
       "      <th>global_radiation</th>\n",
       "      <th>max_temp</th>\n",
       "      <th>mean_temp</th>\n",
       "      <th>min_temp</th>\n",
       "      <th>precipitation</th>\n",
       "      <th>pressure</th>\n",
       "      <th>snow_depth</th>\n",
       "    </tr>\n",
       "  </thead>\n",
       "  <tbody>\n",
       "    <tr>\n",
       "      <th>0</th>\n",
       "      <td>1979-01-01</td>\n",
       "      <td>2.0</td>\n",
       "      <td>7.0</td>\n",
       "      <td>52.0</td>\n",
       "      <td>2.3</td>\n",
       "      <td>-4.1</td>\n",
       "      <td>-7.5</td>\n",
       "      <td>0.4</td>\n",
       "      <td>101900.0</td>\n",
       "      <td>9.0</td>\n",
       "    </tr>\n",
       "    <tr>\n",
       "      <th>1</th>\n",
       "      <td>1979-01-02</td>\n",
       "      <td>6.0</td>\n",
       "      <td>1.7</td>\n",
       "      <td>27.0</td>\n",
       "      <td>1.6</td>\n",
       "      <td>-2.6</td>\n",
       "      <td>-7.5</td>\n",
       "      <td>0.0</td>\n",
       "      <td>102530.0</td>\n",
       "      <td>8.0</td>\n",
       "    </tr>\n",
       "    <tr>\n",
       "      <th>2</th>\n",
       "      <td>1979-01-03</td>\n",
       "      <td>5.0</td>\n",
       "      <td>0.0</td>\n",
       "      <td>13.0</td>\n",
       "      <td>1.3</td>\n",
       "      <td>-2.8</td>\n",
       "      <td>-7.2</td>\n",
       "      <td>0.0</td>\n",
       "      <td>102050.0</td>\n",
       "      <td>4.0</td>\n",
       "    </tr>\n",
       "    <tr>\n",
       "      <th>3</th>\n",
       "      <td>1979-01-04</td>\n",
       "      <td>8.0</td>\n",
       "      <td>0.0</td>\n",
       "      <td>13.0</td>\n",
       "      <td>-0.3</td>\n",
       "      <td>-2.6</td>\n",
       "      <td>-6.5</td>\n",
       "      <td>0.0</td>\n",
       "      <td>100840.0</td>\n",
       "      <td>2.0</td>\n",
       "    </tr>\n",
       "    <tr>\n",
       "      <th>4</th>\n",
       "      <td>1979-01-05</td>\n",
       "      <td>6.0</td>\n",
       "      <td>2.0</td>\n",
       "      <td>29.0</td>\n",
       "      <td>5.6</td>\n",
       "      <td>-0.8</td>\n",
       "      <td>-1.4</td>\n",
       "      <td>0.0</td>\n",
       "      <td>102250.0</td>\n",
       "      <td>1.0</td>\n",
       "    </tr>\n",
       "    <tr>\n",
       "      <th>...</th>\n",
       "      <td>...</td>\n",
       "      <td>...</td>\n",
       "      <td>...</td>\n",
       "      <td>...</td>\n",
       "      <td>...</td>\n",
       "      <td>...</td>\n",
       "      <td>...</td>\n",
       "      <td>...</td>\n",
       "      <td>...</td>\n",
       "      <td>...</td>\n",
       "    </tr>\n",
       "    <tr>\n",
       "      <th>15336</th>\n",
       "      <td>2020-12-27</td>\n",
       "      <td>1.0</td>\n",
       "      <td>0.9</td>\n",
       "      <td>32.0</td>\n",
       "      <td>7.5</td>\n",
       "      <td>7.5</td>\n",
       "      <td>7.6</td>\n",
       "      <td>2.0</td>\n",
       "      <td>98000.0</td>\n",
       "      <td>NaN</td>\n",
       "    </tr>\n",
       "    <tr>\n",
       "      <th>15337</th>\n",
       "      <td>2020-12-28</td>\n",
       "      <td>7.0</td>\n",
       "      <td>3.7</td>\n",
       "      <td>38.0</td>\n",
       "      <td>3.6</td>\n",
       "      <td>1.1</td>\n",
       "      <td>-1.3</td>\n",
       "      <td>0.2</td>\n",
       "      <td>97370.0</td>\n",
       "      <td>NaN</td>\n",
       "    </tr>\n",
       "    <tr>\n",
       "      <th>15338</th>\n",
       "      <td>2020-12-29</td>\n",
       "      <td>7.0</td>\n",
       "      <td>0.0</td>\n",
       "      <td>21.0</td>\n",
       "      <td>4.1</td>\n",
       "      <td>2.6</td>\n",
       "      <td>1.1</td>\n",
       "      <td>0.0</td>\n",
       "      <td>98830.0</td>\n",
       "      <td>NaN</td>\n",
       "    </tr>\n",
       "    <tr>\n",
       "      <th>15339</th>\n",
       "      <td>2020-12-30</td>\n",
       "      <td>6.0</td>\n",
       "      <td>0.4</td>\n",
       "      <td>22.0</td>\n",
       "      <td>5.6</td>\n",
       "      <td>2.7</td>\n",
       "      <td>-0.1</td>\n",
       "      <td>0.0</td>\n",
       "      <td>100200.0</td>\n",
       "      <td>NaN</td>\n",
       "    </tr>\n",
       "    <tr>\n",
       "      <th>15340</th>\n",
       "      <td>2020-12-31</td>\n",
       "      <td>7.0</td>\n",
       "      <td>1.3</td>\n",
       "      <td>34.0</td>\n",
       "      <td>1.5</td>\n",
       "      <td>-0.8</td>\n",
       "      <td>-3.1</td>\n",
       "      <td>0.0</td>\n",
       "      <td>100500.0</td>\n",
       "      <td>NaN</td>\n",
       "    </tr>\n",
       "  </tbody>\n",
       "</table>\n",
       "<p>15341 rows × 10 columns</p>\n",
       "</div>"
      ],
      "text/plain": [
       "            date  cloud_cover  sunshine  global_radiation  max_temp  \\\n",
       "0     1979-01-01          2.0       7.0              52.0       2.3   \n",
       "1     1979-01-02          6.0       1.7              27.0       1.6   \n",
       "2     1979-01-03          5.0       0.0              13.0       1.3   \n",
       "3     1979-01-04          8.0       0.0              13.0      -0.3   \n",
       "4     1979-01-05          6.0       2.0              29.0       5.6   \n",
       "...          ...          ...       ...               ...       ...   \n",
       "15336 2020-12-27          1.0       0.9              32.0       7.5   \n",
       "15337 2020-12-28          7.0       3.7              38.0       3.6   \n",
       "15338 2020-12-29          7.0       0.0              21.0       4.1   \n",
       "15339 2020-12-30          6.0       0.4              22.0       5.6   \n",
       "15340 2020-12-31          7.0       1.3              34.0       1.5   \n",
       "\n",
       "       mean_temp  min_temp  precipitation  pressure  snow_depth  \n",
       "0           -4.1      -7.5            0.4  101900.0         9.0  \n",
       "1           -2.6      -7.5            0.0  102530.0         8.0  \n",
       "2           -2.8      -7.2            0.0  102050.0         4.0  \n",
       "3           -2.6      -6.5            0.0  100840.0         2.0  \n",
       "4           -0.8      -1.4            0.0  102250.0         1.0  \n",
       "...          ...       ...            ...       ...         ...  \n",
       "15336        7.5       7.6            2.0   98000.0         NaN  \n",
       "15337        1.1      -1.3            0.2   97370.0         NaN  \n",
       "15338        2.6       1.1            0.0   98830.0         NaN  \n",
       "15339        2.7      -0.1            0.0  100200.0         NaN  \n",
       "15340       -0.8      -3.1            0.0  100500.0         NaN  \n",
       "\n",
       "[15341 rows x 10 columns]"
      ]
     },
     "execution_count": 6,
     "metadata": {},
     "output_type": "execute_result"
    }
   ],
   "source": [
    "dt_data"
   ]
  },
  {
   "cell_type": "code",
   "execution_count": 7,
   "id": "a47f9e80",
   "metadata": {},
   "outputs": [
    {
     "data": {
      "text/plain": [
       "Timestamp('1979-01-01 00:00:00')"
      ]
     },
     "execution_count": 7,
     "metadata": {},
     "output_type": "execute_result"
    }
   ],
   "source": [
    "dt_data.loc[0,'date']"
   ]
  },
  {
   "cell_type": "code",
   "execution_count": 8,
   "id": "047200ab",
   "metadata": {},
   "outputs": [
    {
     "data": {
      "text/plain": [
       "Timestamp('1979-01-01 00:00:00')"
      ]
     },
     "execution_count": 8,
     "metadata": {},
     "output_type": "execute_result"
    }
   ],
   "source": [
    "dt_data.loc[0, 'date']\n",
    "# loading well but no time in the timestamp just dates"
   ]
  },
  {
   "cell_type": "code",
   "execution_count": 9,
   "id": "2684dc18",
   "metadata": {},
   "outputs": [
    {
     "data": {
      "text/plain": [
       "0       Monday\n",
       "1      Tuesday\n",
       "2    Wednesday\n",
       "3     Thursday\n",
       "4       Friday\n",
       "Name: date, dtype: object"
      ]
     },
     "execution_count": 9,
     "metadata": {},
     "output_type": "execute_result"
    }
   ],
   "source": [
    "dt_data['date'].dt.day_name().head()"
   ]
  },
  {
   "cell_type": "code",
   "execution_count": 10,
   "id": "41c7bb3f",
   "metadata": {},
   "outputs": [
    {
     "data": {
      "text/html": [
       "<div>\n",
       "<style scoped>\n",
       "    .dataframe tbody tr th:only-of-type {\n",
       "        vertical-align: middle;\n",
       "    }\n",
       "\n",
       "    .dataframe tbody tr th {\n",
       "        vertical-align: top;\n",
       "    }\n",
       "\n",
       "    .dataframe thead th {\n",
       "        text-align: right;\n",
       "    }\n",
       "</style>\n",
       "<table border=\"1\" class=\"dataframe\">\n",
       "  <thead>\n",
       "    <tr style=\"text-align: right;\">\n",
       "      <th></th>\n",
       "      <th>cloud_cover</th>\n",
       "      <th>sunshine</th>\n",
       "      <th>global_radiation</th>\n",
       "      <th>max_temp</th>\n",
       "      <th>mean_temp</th>\n",
       "      <th>min_temp</th>\n",
       "      <th>precipitation</th>\n",
       "      <th>pressure</th>\n",
       "      <th>snow_depth</th>\n",
       "    </tr>\n",
       "    <tr>\n",
       "      <th>date</th>\n",
       "      <th></th>\n",
       "      <th></th>\n",
       "      <th></th>\n",
       "      <th></th>\n",
       "      <th></th>\n",
       "      <th></th>\n",
       "      <th></th>\n",
       "      <th></th>\n",
       "      <th></th>\n",
       "    </tr>\n",
       "  </thead>\n",
       "  <tbody>\n",
       "    <tr>\n",
       "      <th>1979-01-01</th>\n",
       "      <td>2.0</td>\n",
       "      <td>7.0</td>\n",
       "      <td>52.0</td>\n",
       "      <td>2.3</td>\n",
       "      <td>-4.1</td>\n",
       "      <td>-7.5</td>\n",
       "      <td>0.4</td>\n",
       "      <td>101900.0</td>\n",
       "      <td>9.0</td>\n",
       "    </tr>\n",
       "    <tr>\n",
       "      <th>1979-01-02</th>\n",
       "      <td>6.0</td>\n",
       "      <td>1.7</td>\n",
       "      <td>27.0</td>\n",
       "      <td>1.6</td>\n",
       "      <td>-2.6</td>\n",
       "      <td>-7.5</td>\n",
       "      <td>0.0</td>\n",
       "      <td>102530.0</td>\n",
       "      <td>8.0</td>\n",
       "    </tr>\n",
       "    <tr>\n",
       "      <th>1979-01-03</th>\n",
       "      <td>5.0</td>\n",
       "      <td>0.0</td>\n",
       "      <td>13.0</td>\n",
       "      <td>1.3</td>\n",
       "      <td>-2.8</td>\n",
       "      <td>-7.2</td>\n",
       "      <td>0.0</td>\n",
       "      <td>102050.0</td>\n",
       "      <td>4.0</td>\n",
       "    </tr>\n",
       "    <tr>\n",
       "      <th>1979-01-04</th>\n",
       "      <td>8.0</td>\n",
       "      <td>0.0</td>\n",
       "      <td>13.0</td>\n",
       "      <td>-0.3</td>\n",
       "      <td>-2.6</td>\n",
       "      <td>-6.5</td>\n",
       "      <td>0.0</td>\n",
       "      <td>100840.0</td>\n",
       "      <td>2.0</td>\n",
       "    </tr>\n",
       "    <tr>\n",
       "      <th>1979-01-05</th>\n",
       "      <td>6.0</td>\n",
       "      <td>2.0</td>\n",
       "      <td>29.0</td>\n",
       "      <td>5.6</td>\n",
       "      <td>-0.8</td>\n",
       "      <td>-1.4</td>\n",
       "      <td>0.0</td>\n",
       "      <td>102250.0</td>\n",
       "      <td>1.0</td>\n",
       "    </tr>\n",
       "    <tr>\n",
       "      <th>...</th>\n",
       "      <td>...</td>\n",
       "      <td>...</td>\n",
       "      <td>...</td>\n",
       "      <td>...</td>\n",
       "      <td>...</td>\n",
       "      <td>...</td>\n",
       "      <td>...</td>\n",
       "      <td>...</td>\n",
       "      <td>...</td>\n",
       "    </tr>\n",
       "    <tr>\n",
       "      <th>2020-12-27</th>\n",
       "      <td>1.0</td>\n",
       "      <td>0.9</td>\n",
       "      <td>32.0</td>\n",
       "      <td>7.5</td>\n",
       "      <td>7.5</td>\n",
       "      <td>7.6</td>\n",
       "      <td>2.0</td>\n",
       "      <td>98000.0</td>\n",
       "      <td>NaN</td>\n",
       "    </tr>\n",
       "    <tr>\n",
       "      <th>2020-12-28</th>\n",
       "      <td>7.0</td>\n",
       "      <td>3.7</td>\n",
       "      <td>38.0</td>\n",
       "      <td>3.6</td>\n",
       "      <td>1.1</td>\n",
       "      <td>-1.3</td>\n",
       "      <td>0.2</td>\n",
       "      <td>97370.0</td>\n",
       "      <td>NaN</td>\n",
       "    </tr>\n",
       "    <tr>\n",
       "      <th>2020-12-29</th>\n",
       "      <td>7.0</td>\n",
       "      <td>0.0</td>\n",
       "      <td>21.0</td>\n",
       "      <td>4.1</td>\n",
       "      <td>2.6</td>\n",
       "      <td>1.1</td>\n",
       "      <td>0.0</td>\n",
       "      <td>98830.0</td>\n",
       "      <td>NaN</td>\n",
       "    </tr>\n",
       "    <tr>\n",
       "      <th>2020-12-30</th>\n",
       "      <td>6.0</td>\n",
       "      <td>0.4</td>\n",
       "      <td>22.0</td>\n",
       "      <td>5.6</td>\n",
       "      <td>2.7</td>\n",
       "      <td>-0.1</td>\n",
       "      <td>0.0</td>\n",
       "      <td>100200.0</td>\n",
       "      <td>NaN</td>\n",
       "    </tr>\n",
       "    <tr>\n",
       "      <th>2020-12-31</th>\n",
       "      <td>7.0</td>\n",
       "      <td>1.3</td>\n",
       "      <td>34.0</td>\n",
       "      <td>1.5</td>\n",
       "      <td>-0.8</td>\n",
       "      <td>-3.1</td>\n",
       "      <td>0.0</td>\n",
       "      <td>100500.0</td>\n",
       "      <td>NaN</td>\n",
       "    </tr>\n",
       "  </tbody>\n",
       "</table>\n",
       "<p>15341 rows × 9 columns</p>\n",
       "</div>"
      ],
      "text/plain": [
       "            cloud_cover  sunshine  global_radiation  max_temp  mean_temp  \\\n",
       "date                                                                       \n",
       "1979-01-01          2.0       7.0              52.0       2.3       -4.1   \n",
       "1979-01-02          6.0       1.7              27.0       1.6       -2.6   \n",
       "1979-01-03          5.0       0.0              13.0       1.3       -2.8   \n",
       "1979-01-04          8.0       0.0              13.0      -0.3       -2.6   \n",
       "1979-01-05          6.0       2.0              29.0       5.6       -0.8   \n",
       "...                 ...       ...               ...       ...        ...   \n",
       "2020-12-27          1.0       0.9              32.0       7.5        7.5   \n",
       "2020-12-28          7.0       3.7              38.0       3.6        1.1   \n",
       "2020-12-29          7.0       0.0              21.0       4.1        2.6   \n",
       "2020-12-30          6.0       0.4              22.0       5.6        2.7   \n",
       "2020-12-31          7.0       1.3              34.0       1.5       -0.8   \n",
       "\n",
       "            min_temp  precipitation  pressure  snow_depth  \n",
       "date                                                       \n",
       "1979-01-01      -7.5            0.4  101900.0         9.0  \n",
       "1979-01-02      -7.5            0.0  102530.0         8.0  \n",
       "1979-01-03      -7.2            0.0  102050.0         4.0  \n",
       "1979-01-04      -6.5            0.0  100840.0         2.0  \n",
       "1979-01-05      -1.4            0.0  102250.0         1.0  \n",
       "...              ...            ...       ...         ...  \n",
       "2020-12-27       7.6            2.0   98000.0         NaN  \n",
       "2020-12-28      -1.3            0.2   97370.0         NaN  \n",
       "2020-12-29       1.1            0.0   98830.0         NaN  \n",
       "2020-12-30      -0.1            0.0  100200.0         NaN  \n",
       "2020-12-31      -3.1            0.0  100500.0         NaN  \n",
       "\n",
       "[15341 rows x 9 columns]"
      ]
     },
     "execution_count": 10,
     "metadata": {},
     "output_type": "execute_result"
    }
   ],
   "source": [
    "#make date column index \n",
    "dt_data_i = dt_data.set_index('date')\n",
    "dt_data_i"
   ]
  },
  {
   "cell_type": "code",
   "execution_count": 11,
   "id": "0f9e93be",
   "metadata": {},
   "outputs": [
    {
     "data": {
      "text/plain": [
       "DatetimeIndex(['1979-01-01', '1979-01-02', '1979-01-03', '1979-01-04',\n",
       "               '1979-01-05', '1979-01-06', '1979-01-07', '1979-01-08',\n",
       "               '1979-01-09', '1979-01-10',\n",
       "               ...\n",
       "               '2020-12-22', '2020-12-23', '2020-12-24', '2020-12-25',\n",
       "               '2020-12-26', '2020-12-27', '2020-12-28', '2020-12-29',\n",
       "               '2020-12-30', '2020-12-31'],\n",
       "              dtype='datetime64[ns]', name='date', length=15341, freq=None)"
      ]
     },
     "execution_count": 11,
     "metadata": {},
     "output_type": "execute_result"
    }
   ],
   "source": [
    "dt_data_i.index"
   ]
  },
  {
   "cell_type": "code",
   "execution_count": 12,
   "id": "397fe1fe",
   "metadata": {},
   "outputs": [
    {
     "data": {
      "text/html": [
       "<div>\n",
       "<style scoped>\n",
       "    .dataframe tbody tr th:only-of-type {\n",
       "        vertical-align: middle;\n",
       "    }\n",
       "\n",
       "    .dataframe tbody tr th {\n",
       "        vertical-align: top;\n",
       "    }\n",
       "\n",
       "    .dataframe thead th {\n",
       "        text-align: right;\n",
       "    }\n",
       "</style>\n",
       "<table border=\"1\" class=\"dataframe\">\n",
       "  <thead>\n",
       "    <tr style=\"text-align: right;\">\n",
       "      <th></th>\n",
       "      <th>precipitation</th>\n",
       "      <th>mean_temp</th>\n",
       "      <th>min_temp</th>\n",
       "      <th>max_temp</th>\n",
       "      <th>snow_depth</th>\n",
       "    </tr>\n",
       "    <tr>\n",
       "      <th>date</th>\n",
       "      <th></th>\n",
       "      <th></th>\n",
       "      <th></th>\n",
       "      <th></th>\n",
       "      <th></th>\n",
       "    </tr>\n",
       "  </thead>\n",
       "  <tbody>\n",
       "    <tr>\n",
       "      <th>2000-01-01</th>\n",
       "      <td>0.0</td>\n",
       "      <td>7.0</td>\n",
       "      <td>4.9</td>\n",
       "      <td>10.8</td>\n",
       "      <td>0.0</td>\n",
       "    </tr>\n",
       "    <tr>\n",
       "      <th>2000-01-02</th>\n",
       "      <td>0.2</td>\n",
       "      <td>7.9</td>\n",
       "      <td>5.0</td>\n",
       "      <td>11.5</td>\n",
       "      <td>0.0</td>\n",
       "    </tr>\n",
       "    <tr>\n",
       "      <th>2000-01-03</th>\n",
       "      <td>6.0</td>\n",
       "      <td>9.4</td>\n",
       "      <td>7.2</td>\n",
       "      <td>9.5</td>\n",
       "      <td>0.0</td>\n",
       "    </tr>\n",
       "    <tr>\n",
       "      <th>2000-01-04</th>\n",
       "      <td>0.2</td>\n",
       "      <td>7.0</td>\n",
       "      <td>4.4</td>\n",
       "      <td>11.0</td>\n",
       "      <td>0.0</td>\n",
       "    </tr>\n",
       "    <tr>\n",
       "      <th>2000-01-05</th>\n",
       "      <td>0.8</td>\n",
       "      <td>6.4</td>\n",
       "      <td>1.9</td>\n",
       "      <td>10.8</td>\n",
       "      <td>0.0</td>\n",
       "    </tr>\n",
       "    <tr>\n",
       "      <th>...</th>\n",
       "      <td>...</td>\n",
       "      <td>...</td>\n",
       "      <td>...</td>\n",
       "      <td>...</td>\n",
       "      <td>...</td>\n",
       "    </tr>\n",
       "    <tr>\n",
       "      <th>2020-12-27</th>\n",
       "      <td>2.0</td>\n",
       "      <td>7.5</td>\n",
       "      <td>7.6</td>\n",
       "      <td>7.5</td>\n",
       "      <td>NaN</td>\n",
       "    </tr>\n",
       "    <tr>\n",
       "      <th>2020-12-28</th>\n",
       "      <td>0.2</td>\n",
       "      <td>1.1</td>\n",
       "      <td>-1.3</td>\n",
       "      <td>3.6</td>\n",
       "      <td>NaN</td>\n",
       "    </tr>\n",
       "    <tr>\n",
       "      <th>2020-12-29</th>\n",
       "      <td>0.0</td>\n",
       "      <td>2.6</td>\n",
       "      <td>1.1</td>\n",
       "      <td>4.1</td>\n",
       "      <td>NaN</td>\n",
       "    </tr>\n",
       "    <tr>\n",
       "      <th>2020-12-30</th>\n",
       "      <td>0.0</td>\n",
       "      <td>2.7</td>\n",
       "      <td>-0.1</td>\n",
       "      <td>5.6</td>\n",
       "      <td>NaN</td>\n",
       "    </tr>\n",
       "    <tr>\n",
       "      <th>2020-12-31</th>\n",
       "      <td>0.0</td>\n",
       "      <td>-0.8</td>\n",
       "      <td>-3.1</td>\n",
       "      <td>1.5</td>\n",
       "      <td>NaN</td>\n",
       "    </tr>\n",
       "  </tbody>\n",
       "</table>\n",
       "<p>7671 rows × 5 columns</p>\n",
       "</div>"
      ],
      "text/plain": [
       "            precipitation  mean_temp  min_temp  max_temp  snow_depth\n",
       "date                                                                \n",
       "2000-01-01            0.0        7.0       4.9      10.8         0.0\n",
       "2000-01-02            0.2        7.9       5.0      11.5         0.0\n",
       "2000-01-03            6.0        9.4       7.2       9.5         0.0\n",
       "2000-01-04            0.2        7.0       4.4      11.0         0.0\n",
       "2000-01-05            0.8        6.4       1.9      10.8         0.0\n",
       "...                   ...        ...       ...       ...         ...\n",
       "2020-12-27            2.0        7.5       7.6       7.5         NaN\n",
       "2020-12-28            0.2        1.1      -1.3       3.6         NaN\n",
       "2020-12-29            0.0        2.6       1.1       4.1         NaN\n",
       "2020-12-30            0.0        2.7      -0.1       5.6         NaN\n",
       "2020-12-31            0.0       -0.8      -3.1       1.5         NaN\n",
       "\n",
       "[7671 rows x 5 columns]"
      ]
     },
     "execution_count": 12,
     "metadata": {},
     "output_type": "execute_result"
    }
   ],
   "source": [
    "dt_data_i = dt_data_i.loc['2000':,['precipitation', 'mean_temp','min_temp','max_temp','snow_depth']]\n",
    "dt_data_i"
   ]
  },
  {
   "cell_type": "code",
   "execution_count": 13,
   "id": "7f6782fb",
   "metadata": {},
   "outputs": [
    {
     "data": {
      "text/plain": [
       "precipitation     390\n",
       "mean_temp         419\n",
       "min_temp          386\n",
       "max_temp          390\n",
       "snow_depth       1752\n",
       "dtype: int64"
      ]
     },
     "execution_count": 13,
     "metadata": {},
     "output_type": "execute_result"
    }
   ],
   "source": [
    "dt_data_i.isna().sum()"
   ]
  },
  {
   "cell_type": "code",
   "execution_count": 14,
   "id": "bae763ef",
   "metadata": {},
   "outputs": [],
   "source": [
    "#all the columns have missing values we will choose between back fill, forward fill or interpolate\n",
    "dt_data_i['max_temp']= dt_data_i['max_temp'].interpolate()\n",
    "dt_data_i['mean_temp']= dt_data_i['mean_temp'].interpolate()\n",
    "dt_data_i['min_temp']= dt_data_i['min_temp'].interpolate()"
   ]
  },
  {
   "cell_type": "code",
   "execution_count": 15,
   "id": "820555ec",
   "metadata": {},
   "outputs": [
    {
     "data": {
      "text/plain": [
       "precipitation     390\n",
       "mean_temp           0\n",
       "min_temp            0\n",
       "max_temp            0\n",
       "snow_depth       1752\n",
       "dtype: int64"
      ]
     },
     "execution_count": 15,
     "metadata": {},
     "output_type": "execute_result"
    }
   ],
   "source": [
    "dt_data_i.isna().sum()"
   ]
  },
  {
   "cell_type": "code",
   "execution_count": 16,
   "id": "259b26f3",
   "metadata": {},
   "outputs": [],
   "source": [
    "dt_data_i['precipitation']= dt_data_i['precipitation'].fillna(0)\n",
    "dt_data_i['snow_depth']= dt_data_i['snow_depth'].fillna(0)\n",
    "#these would just be better fillin in zero because (either its nan because there was no value), and using bfill or ffill will add in possibly incorrect data if this was the case"
   ]
  },
  {
   "cell_type": "code",
   "execution_count": 17,
   "id": "37447ce2",
   "metadata": {},
   "outputs": [
    {
     "data": {
      "text/plain": [
       "precipitation    0\n",
       "mean_temp        0\n",
       "min_temp         0\n",
       "max_temp         0\n",
       "snow_depth       0\n",
       "dtype: int64"
      ]
     },
     "execution_count": 17,
     "metadata": {},
     "output_type": "execute_result"
    }
   ],
   "source": [
    "dt_data_i.isna().sum()\n",
    "#no more missing values"
   ]
  },
  {
   "cell_type": "markdown",
   "id": "108d9298",
   "metadata": {},
   "source": [
    "#Questions\n",
    "\n",
    "1. What month had the most precipitation between 2000 through 2010?\n",
    "\n",
    "2. Which year between 2000-2020 had the coolest average temperature?\n",
    "\n"
   ]
  },
  {
   "cell_type": "code",
   "execution_count": 19,
   "id": "bfb079a8",
   "metadata": {},
   "outputs": [
    {
     "data": {
      "text/plain": [
       "DatetimeIndex(['2000-01-01', '2000-01-02', '2000-01-03', '2000-01-04',\n",
       "               '2000-01-05', '2000-01-06', '2000-01-07', '2000-01-08',\n",
       "               '2000-01-09', '2000-01-10',\n",
       "               ...\n",
       "               '2020-12-22', '2020-12-23', '2020-12-24', '2020-12-25',\n",
       "               '2020-12-26', '2020-12-27', '2020-12-28', '2020-12-29',\n",
       "               '2020-12-30', '2020-12-31'],\n",
       "              dtype='datetime64[ns]', name='date', length=7671, freq=None)"
      ]
     },
     "execution_count": 19,
     "metadata": {},
     "output_type": "execute_result"
    }
   ],
   "source": [
    "dt_data_i.index\n",
    "#no frequency set"
   ]
  },
  {
   "cell_type": "code",
   "execution_count": 20,
   "id": "ee842872",
   "metadata": {},
   "outputs": [
    {
     "data": {
      "text/plain": [
       "DatetimeIndex(['2000-01-01', '2000-01-02', '2000-01-03', '2000-01-04',\n",
       "               '2000-01-05', '2000-01-06', '2000-01-07', '2000-01-08',\n",
       "               '2000-01-09', '2000-01-10',\n",
       "               ...\n",
       "               '2020-12-22', '2020-12-23', '2020-12-24', '2020-12-25',\n",
       "               '2020-12-26', '2020-12-27', '2020-12-28', '2020-12-29',\n",
       "               '2020-12-30', '2020-12-31'],\n",
       "              dtype='datetime64[ns]', name='date', length=7671, freq=None)"
      ]
     },
     "execution_count": 20,
     "metadata": {},
     "output_type": "execute_result"
    }
   ],
   "source": [
    "dt_data_p = dt_data_i['precipitation'].copy()\n",
    "dt_data_p.index"
   ]
  },
  {
   "cell_type": "code",
   "execution_count": 21,
   "id": "aeca0b67",
   "metadata": {},
   "outputs": [
    {
     "data": {
      "text/plain": [
       "DatetimeIndex(['2000-01-01', '2000-01-02', '2000-01-03', '2000-01-04',\n",
       "               '2000-01-05', '2000-01-06', '2000-01-07', '2000-01-08',\n",
       "               '2000-01-09', '2000-01-10',\n",
       "               ...\n",
       "               '2020-12-22', '2020-12-23', '2020-12-24', '2020-12-25',\n",
       "               '2020-12-26', '2020-12-27', '2020-12-28', '2020-12-29',\n",
       "               '2020-12-30', '2020-12-31'],\n",
       "              dtype='datetime64[ns]', name='date', length=7671, freq='D')"
      ]
     },
     "execution_count": 21,
     "metadata": {},
     "output_type": "execute_result"
    }
   ],
   "source": [
    "dt_data = dt_data_p.asfreq('D')\n",
    "dt_data.index"
   ]
  },
  {
   "cell_type": "code",
   "execution_count": 27,
   "id": "9fa34b1c",
   "metadata": {},
   "outputs": [],
   "source": [
    "dt_data= dt_data.loc['2000':'2010']"
   ]
  },
  {
   "cell_type": "code",
   "execution_count": 28,
   "id": "d5983f61",
   "metadata": {},
   "outputs": [
    {
     "data": {
      "text/plain": [
       "date\n",
       "2000-01-01     6.0\n",
       "2000-02-01    16.8\n",
       "2000-03-01     7.2\n",
       "2000-04-01    17.2\n",
       "2000-05-01    19.0\n",
       "Freq: MS, Name: month_resampled, dtype: float64"
      ]
     },
     "execution_count": 28,
     "metadata": {},
     "output_type": "execute_result"
    }
   ],
   "source": [
    "dt_m_rs= dt_data.resample('MS').max()\n",
    "dt_m_rs.name='month_resampled'\n",
    "dt_m_rs.head()"
   ]
  },
  {
   "cell_type": "code",
   "execution_count": 29,
   "id": "7bbd0fbe",
   "metadata": {},
   "outputs": [],
   "source": [
    "max_prec= dt_m_rs.idxmax()"
   ]
  },
  {
   "cell_type": "code",
   "execution_count": 30,
   "id": "4e02dd13",
   "metadata": {},
   "outputs": [
    {
     "data": {
      "text/plain": [
       "Timestamp('2000-10-01 00:00:00', freq='MS')"
      ]
     },
     "execution_count": 30,
     "metadata": {},
     "output_type": "execute_result"
    }
   ],
   "source": [
    "max_prec"
   ]
  },
  {
   "cell_type": "code",
   "execution_count": 35,
   "id": "5c0cf2fb",
   "metadata": {},
   "outputs": [],
   "source": [
    "max_val= dt_m_rs.loc[max_prec]"
   ]
  },
  {
   "cell_type": "code",
   "execution_count": 32,
   "id": "af711f77",
   "metadata": {},
   "outputs": [
    {
     "data": {
      "image/png": "[encoded data removed]",
      "text/plain": [
       "<Figure size 1200x300 with 1 Axes>"
      ]
     },
     "metadata": {},
     "output_type": "display_data"
    }
   ],
   "source": [
    "ax = dt_m_rs.plot(figsize=(12,3))"
   ]
  },
  {
   "cell_type": "code",
   "execution_count": 45,
   "id": "e5777adf",
   "metadata": {},
   "outputs": [
    {
     "data": {
      "image/png": "[encoded data removed]",
      "text/plain": [
       "<Figure size 1300x300 with 1 Axes>"
      ]
     },
     "metadata": {},
     "output_type": "display_data"
    }
   ],
   "source": [
    "ax = dt_m_rs.plot(figsize=(13,3))\n",
    "ax.axvline(max_prec,label=f'October 2000 {max_val}',\n",
    "          ls='--',color='red');\n",
    "ax.set_ylabel('Inches')\n",
    "ax.set_title('Precipitation for 2000-2010')\n",
    "ax.tick_params(axis = 'x', rotation = 90)\n",
    "ax.legend();\n"
   ]
  },
  {
   "cell_type": "markdown",
   "id": "8dd6dd19",
   "metadata": {},
   "source": [
    "Question 2\n"
   ]
  },
  {
   "cell_type": "code",
   "execution_count": 49,
   "id": "b2917e4f",
   "metadata": {},
   "outputs": [
    {
     "data": {
      "text/plain": [
       "DatetimeIndex(['2000-01-01', '2000-01-02', '2000-01-03', '2000-01-04',\n",
       "               '2000-01-05', '2000-01-06', '2000-01-07', '2000-01-08',\n",
       "               '2000-01-09', '2000-01-10',\n",
       "               ...\n",
       "               '2020-12-22', '2020-12-23', '2020-12-24', '2020-12-25',\n",
       "               '2020-12-26', '2020-12-27', '2020-12-28', '2020-12-29',\n",
       "               '2020-12-30', '2020-12-31'],\n",
       "              dtype='datetime64[ns]', name='date', length=7671, freq=None)"
      ]
     },
     "execution_count": 49,
     "metadata": {},
     "output_type": "execute_result"
    }
   ],
   "source": [
    "dt_data_p = dt_data_i['mean_temp'].copy()\n",
    "dt_data_p.index"
   ]
  },
  {
   "cell_type": "code",
   "execution_count": 52,
   "id": "9a4a724b",
   "metadata": {},
   "outputs": [
    {
     "data": {
      "text/plain": [
       "DatetimeIndex(['2000-01-01', '2000-01-02', '2000-01-03', '2000-01-04',\n",
       "               '2000-01-05', '2000-01-06', '2000-01-07', '2000-01-08',\n",
       "               '2000-01-09', '2000-01-10',\n",
       "               ...\n",
       "               '2020-12-22', '2020-12-23', '2020-12-24', '2020-12-25',\n",
       "               '2020-12-26', '2020-12-27', '2020-12-28', '2020-12-29',\n",
       "               '2020-12-30', '2020-12-31'],\n",
       "              dtype='datetime64[ns]', name='date', length=7671, freq='D')"
      ]
     },
     "execution_count": 52,
     "metadata": {},
     "output_type": "execute_result"
    }
   ],
   "source": [
    "dt_data = dt_data_p.asfreq('D')\n",
    "dt_data.index"
   ]
  },
  {
   "cell_type": "code",
   "execution_count": 53,
   "id": "2acc4b72",
   "metadata": {},
   "outputs": [],
   "source": [
    "dt_data= dt_data.loc['2000':'2020']"
   ]
  },
  {
   "cell_type": "code",
   "execution_count": 54,
   "id": "b62d96e7",
   "metadata": {},
   "outputs": [
    {
     "data": {
      "text/plain": [
       "date\n",
       "2000-12-31   -2.2\n",
       "2001-12-31   -0.9\n",
       "2002-12-31   -0.8\n",
       "2003-12-31   -1.4\n",
       "2004-12-31    0.0\n",
       "Freq: A-DEC, Name: mean_temp, dtype: float64"
      ]
     },
     "execution_count": 54,
     "metadata": {},
     "output_type": "execute_result"
    }
   ],
   "source": [
    "dt_y_rs = dt_data.resample('Y').min()\n",
    "dt_y_rs.head()"
   ]
  },
  {
   "cell_type": "code",
   "execution_count": 55,
   "id": "4040ea52",
   "metadata": {},
   "outputs": [],
   "source": [
    "min_tempavg = dt_y_rs.idxmin()"
   ]
  },
  {
   "cell_type": "code",
   "execution_count": 56,
   "id": "41f795d7",
   "metadata": {},
   "outputs": [
    {
     "data": {
      "text/plain": [
       "Timestamp('2010-12-31 00:00:00', freq='A-DEC')"
      ]
     },
     "execution_count": 56,
     "metadata": {},
     "output_type": "execute_result"
    }
   ],
   "source": [
    "min_tempavg"
   ]
  },
  {
   "cell_type": "code",
   "execution_count": 57,
   "id": "a3b6a28e",
   "metadata": {},
   "outputs": [],
   "source": [
    "min_temp= dt_y_rs.loc[min_tempavg]"
   ]
  },
  {
   "cell_type": "code",
   "execution_count": 59,
   "id": "e2fd5336",
   "metadata": {},
   "outputs": [
    {
     "data": {
      "text/plain": [
       "-4.1"
      ]
     },
     "execution_count": 59,
     "metadata": {},
     "output_type": "execute_result"
    }
   ],
   "source": [
    "min_temp"
   ]
  },
  {
   "cell_type": "code",
   "execution_count": 58,
   "id": "7ad407b5",
   "metadata": {},
   "outputs": [
    {
     "data": {
      "image/png": "[encoded data removed]",
      "text/plain": [
       "<Figure size 1200x300 with 1 Axes>"
      ]
     },
     "metadata": {},
     "output_type": "display_data"
    }
   ],
   "source": [
    "ax = dt_y_rs.plot(figsize=(12,3))"
   ]
  },
  {
   "cell_type": "code",
   "execution_count": 60,
   "id": "95787608",
   "metadata": {},
   "outputs": [
    {
     "data": {
      "image/png": "[encoded data removed]",
      "text/plain": [
       "<Figure size 1300x300 with 1 Axes>"
      ]
     },
     "metadata": {},
     "output_type": "display_data"
    }
   ],
   "source": [
    "ax = dt_y_rs.plot(figsize=(13,3))\n",
    "ax.axvline(min_tempavg,label=f'2010 {min_temp}',\n",
    "          ls='--',color='red');\n",
    "ax.set_ylabel('Degrees')\n",
    "ax.set_title('Coolest Avg Temperature')\n",
    "ax.tick_params(axis = 'x', rotation = 90)\n",
    "ax.legend();"
   ]
  },
  {
   "cell_type": "code",
   "execution_count": null,
   "id": "23609152",
   "metadata": {},
   "outputs": [],
   "source": []
  }
 ],
 "metadata": {
  "kernelspec": {
   "display_name": "Python(dojo-env0",
   "language": "python",
   "name": "dojo-env"
  },
  "language_info": {
   "codemirror_mode": {
    "name": "ipython",
    "version": 3
   },
   "file_extension": ".py",
   "mimetype": "text/x-python",
   "name": "python",
   "nbconvert_exporter": "python",
   "pygments_lexer": "ipython3",
   "version": "3.9.15"
  },
  "toc": {
   "base_numbering": 1,
   "nav_menu": {},
   "number_sections": false,
   "sideBar": true,
   "skip_h1_title": false,
   "title_cell": "Table of Contents",
   "title_sidebar": "Contents",
   "toc_cell": false,
   "toc_position": {},
   "toc_section_display": true,
   "toc_window_display": false
  }
 },
 "nbformat": 4,
 "nbformat_minor": 5
}
